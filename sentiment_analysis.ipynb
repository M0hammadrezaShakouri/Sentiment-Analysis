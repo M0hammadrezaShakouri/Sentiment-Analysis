{
  "cells": [
    {
      "cell_type": "code",
      "execution_count": 118,
      "metadata": {
        "id": "Z36DnwKCtEs1"
      },
      "outputs": [],
      "source": [
        "import numpy as np \n",
        "import pandas as pd \n",
        "import re\n",
        "import nltk \n",
        "import matplotlib.pyplot as plt\n",
        "%matplotlib inline\n",
        "import seaborn as sn\n",
        "\n"
      ]
    },
    {
      "cell_type": "markdown",
      "metadata": {
        "id": "Hogvxq_iw3o2"
      },
      "source": [
        "### **read data**\n"
      ]
    },
    {
      "cell_type": "code",
      "execution_count": 119,
      "metadata": {
        "colab": {
          "base_uri": "https://localhost:8080/",
          "height": 496
        },
        "id": "PznBiDxatanR",
        "outputId": "db15d04f-fd9d-433f-b5b0-e2427d8cc378"
      },
      "outputs": [
        {
          "data": {
            "text/html": [
              "\n",
              "  <div id=\"df-bd3f9091-7240-4777-b18e-62d4ebbb9744\">\n",
              "    <div class=\"colab-df-container\">\n",
              "      <div>\n",
              "<style scoped>\n",
              "    .dataframe tbody tr th:only-of-type {\n",
              "        vertical-align: middle;\n",
              "    }\n",
              "\n",
              "    .dataframe tbody tr th {\n",
              "        vertical-align: top;\n",
              "    }\n",
              "\n",
              "    .dataframe thead th {\n",
              "        text-align: right;\n",
              "    }\n",
              "</style>\n",
              "<table border=\"1\" class=\"dataframe\">\n",
              "  <thead>\n",
              "    <tr style=\"text-align: right;\">\n",
              "      <th></th>\n",
              "      <th>tweet_id</th>\n",
              "      <th>airline_sentiment</th>\n",
              "      <th>airline_sentiment_confidence</th>\n",
              "      <th>negativereason</th>\n",
              "      <th>negativereason_confidence</th>\n",
              "      <th>airline</th>\n",
              "      <th>airline_sentiment_gold</th>\n",
              "      <th>name</th>\n",
              "      <th>negativereason_gold</th>\n",
              "      <th>retweet_count</th>\n",
              "      <th>text</th>\n",
              "      <th>tweet_coord</th>\n",
              "      <th>tweet_created</th>\n",
              "      <th>tweet_location</th>\n",
              "      <th>user_timezone</th>\n",
              "    </tr>\n",
              "  </thead>\n",
              "  <tbody>\n",
              "    <tr>\n",
              "      <th>0</th>\n",
              "      <td>570306133677760513</td>\n",
              "      <td>neutral</td>\n",
              "      <td>1.0000</td>\n",
              "      <td>NaN</td>\n",
              "      <td>NaN</td>\n",
              "      <td>Virgin America</td>\n",
              "      <td>NaN</td>\n",
              "      <td>cairdin</td>\n",
              "      <td>NaN</td>\n",
              "      <td>0</td>\n",
              "      <td>@VirginAmerica What @dhepburn said.</td>\n",
              "      <td>NaN</td>\n",
              "      <td>2015-02-24 11:35:52 -0800</td>\n",
              "      <td>NaN</td>\n",
              "      <td>Eastern Time (US &amp; Canada)</td>\n",
              "    </tr>\n",
              "    <tr>\n",
              "      <th>1</th>\n",
              "      <td>570301130888122368</td>\n",
              "      <td>positive</td>\n",
              "      <td>0.3486</td>\n",
              "      <td>NaN</td>\n",
              "      <td>0.0000</td>\n",
              "      <td>Virgin America</td>\n",
              "      <td>NaN</td>\n",
              "      <td>jnardino</td>\n",
              "      <td>NaN</td>\n",
              "      <td>0</td>\n",
              "      <td>@VirginAmerica plus you've added commercials t...</td>\n",
              "      <td>NaN</td>\n",
              "      <td>2015-02-24 11:15:59 -0800</td>\n",
              "      <td>NaN</td>\n",
              "      <td>Pacific Time (US &amp; Canada)</td>\n",
              "    </tr>\n",
              "    <tr>\n",
              "      <th>2</th>\n",
              "      <td>570301083672813571</td>\n",
              "      <td>neutral</td>\n",
              "      <td>0.6837</td>\n",
              "      <td>NaN</td>\n",
              "      <td>NaN</td>\n",
              "      <td>Virgin America</td>\n",
              "      <td>NaN</td>\n",
              "      <td>yvonnalynn</td>\n",
              "      <td>NaN</td>\n",
              "      <td>0</td>\n",
              "      <td>@VirginAmerica I didn't today... Must mean I n...</td>\n",
              "      <td>NaN</td>\n",
              "      <td>2015-02-24 11:15:48 -0800</td>\n",
              "      <td>Lets Play</td>\n",
              "      <td>Central Time (US &amp; Canada)</td>\n",
              "    </tr>\n",
              "    <tr>\n",
              "      <th>3</th>\n",
              "      <td>570301031407624196</td>\n",
              "      <td>negative</td>\n",
              "      <td>1.0000</td>\n",
              "      <td>Bad Flight</td>\n",
              "      <td>0.7033</td>\n",
              "      <td>Virgin America</td>\n",
              "      <td>NaN</td>\n",
              "      <td>jnardino</td>\n",
              "      <td>NaN</td>\n",
              "      <td>0</td>\n",
              "      <td>@VirginAmerica it's really aggressive to blast...</td>\n",
              "      <td>NaN</td>\n",
              "      <td>2015-02-24 11:15:36 -0800</td>\n",
              "      <td>NaN</td>\n",
              "      <td>Pacific Time (US &amp; Canada)</td>\n",
              "    </tr>\n",
              "    <tr>\n",
              "      <th>4</th>\n",
              "      <td>570300817074462722</td>\n",
              "      <td>negative</td>\n",
              "      <td>1.0000</td>\n",
              "      <td>Can't Tell</td>\n",
              "      <td>1.0000</td>\n",
              "      <td>Virgin America</td>\n",
              "      <td>NaN</td>\n",
              "      <td>jnardino</td>\n",
              "      <td>NaN</td>\n",
              "      <td>0</td>\n",
              "      <td>@VirginAmerica and it's a really big bad thing...</td>\n",
              "      <td>NaN</td>\n",
              "      <td>2015-02-24 11:14:45 -0800</td>\n",
              "      <td>NaN</td>\n",
              "      <td>Pacific Time (US &amp; Canada)</td>\n",
              "    </tr>\n",
              "  </tbody>\n",
              "</table>\n",
              "</div>\n",
              "      <button class=\"colab-df-convert\" onclick=\"convertToInteractive('df-bd3f9091-7240-4777-b18e-62d4ebbb9744')\"\n",
              "              title=\"Convert this dataframe to an interactive table.\"\n",
              "              style=\"display:none;\">\n",
              "        \n",
              "  <svg xmlns=\"http://www.w3.org/2000/svg\" height=\"24px\"viewBox=\"0 0 24 24\"\n",
              "       width=\"24px\">\n",
              "    <path d=\"M0 0h24v24H0V0z\" fill=\"none\"/>\n",
              "    <path d=\"M18.56 5.44l.94 2.06.94-2.06 2.06-.94-2.06-.94-.94-2.06-.94 2.06-2.06.94zm-11 1L8.5 8.5l.94-2.06 2.06-.94-2.06-.94L8.5 2.5l-.94 2.06-2.06.94zm10 10l.94 2.06.94-2.06 2.06-.94-2.06-.94-.94-2.06-.94 2.06-2.06.94z\"/><path d=\"M17.41 7.96l-1.37-1.37c-.4-.4-.92-.59-1.43-.59-.52 0-1.04.2-1.43.59L10.3 9.45l-7.72 7.72c-.78.78-.78 2.05 0 2.83L4 21.41c.39.39.9.59 1.41.59.51 0 1.02-.2 1.41-.59l7.78-7.78 2.81-2.81c.8-.78.8-2.07 0-2.86zM5.41 20L4 18.59l7.72-7.72 1.47 1.35L5.41 20z\"/>\n",
              "  </svg>\n",
              "      </button>\n",
              "      \n",
              "  <style>\n",
              "    .colab-df-container {\n",
              "      display:flex;\n",
              "      flex-wrap:wrap;\n",
              "      gap: 12px;\n",
              "    }\n",
              "\n",
              "    .colab-df-convert {\n",
              "      background-color: #E8F0FE;\n",
              "      border: none;\n",
              "      border-radius: 50%;\n",
              "      cursor: pointer;\n",
              "      display: none;\n",
              "      fill: #1967D2;\n",
              "      height: 32px;\n",
              "      padding: 0 0 0 0;\n",
              "      width: 32px;\n",
              "    }\n",
              "\n",
              "    .colab-df-convert:hover {\n",
              "      background-color: #E2EBFA;\n",
              "      box-shadow: 0px 1px 2px rgba(60, 64, 67, 0.3), 0px 1px 3px 1px rgba(60, 64, 67, 0.15);\n",
              "      fill: #174EA6;\n",
              "    }\n",
              "\n",
              "    [theme=dark] .colab-df-convert {\n",
              "      background-color: #3B4455;\n",
              "      fill: #D2E3FC;\n",
              "    }\n",
              "\n",
              "    [theme=dark] .colab-df-convert:hover {\n",
              "      background-color: #434B5C;\n",
              "      box-shadow: 0px 1px 3px 1px rgba(0, 0, 0, 0.15);\n",
              "      filter: drop-shadow(0px 1px 2px rgba(0, 0, 0, 0.3));\n",
              "      fill: #FFFFFF;\n",
              "    }\n",
              "  </style>\n",
              "\n",
              "      <script>\n",
              "        const buttonEl =\n",
              "          document.querySelector('#df-bd3f9091-7240-4777-b18e-62d4ebbb9744 button.colab-df-convert');\n",
              "        buttonEl.style.display =\n",
              "          google.colab.kernel.accessAllowed ? 'block' : 'none';\n",
              "\n",
              "        async function convertToInteractive(key) {\n",
              "          const element = document.querySelector('#df-bd3f9091-7240-4777-b18e-62d4ebbb9744');\n",
              "          const dataTable =\n",
              "            await google.colab.kernel.invokeFunction('convertToInteractive',\n",
              "                                                     [key], {});\n",
              "          if (!dataTable) return;\n",
              "\n",
              "          const docLinkHtml = 'Like what you see? Visit the ' +\n",
              "            '<a target=\"_blank\" href=https://colab.research.google.com/notebooks/data_table.ipynb>data table notebook</a>'\n",
              "            + ' to learn more about interactive tables.';\n",
              "          element.innerHTML = '';\n",
              "          dataTable['output_type'] = 'display_data';\n",
              "          await google.colab.output.renderOutput(dataTable, element);\n",
              "          const docLink = document.createElement('div');\n",
              "          docLink.innerHTML = docLinkHtml;\n",
              "          element.appendChild(docLink);\n",
              "        }\n",
              "      </script>\n",
              "    </div>\n",
              "  </div>\n",
              "  "
            ],
            "text/plain": [
              "             tweet_id airline_sentiment  airline_sentiment_confidence  \\\n",
              "0  570306133677760513           neutral                        1.0000   \n",
              "1  570301130888122368          positive                        0.3486   \n",
              "2  570301083672813571           neutral                        0.6837   \n",
              "3  570301031407624196          negative                        1.0000   \n",
              "4  570300817074462722          negative                        1.0000   \n",
              "\n",
              "  negativereason  negativereason_confidence         airline  \\\n",
              "0            NaN                        NaN  Virgin America   \n",
              "1            NaN                     0.0000  Virgin America   \n",
              "2            NaN                        NaN  Virgin America   \n",
              "3     Bad Flight                     0.7033  Virgin America   \n",
              "4     Can't Tell                     1.0000  Virgin America   \n",
              "\n",
              "  airline_sentiment_gold        name negativereason_gold  retweet_count  \\\n",
              "0                    NaN     cairdin                 NaN              0   \n",
              "1                    NaN    jnardino                 NaN              0   \n",
              "2                    NaN  yvonnalynn                 NaN              0   \n",
              "3                    NaN    jnardino                 NaN              0   \n",
              "4                    NaN    jnardino                 NaN              0   \n",
              "\n",
              "                                                text tweet_coord  \\\n",
              "0                @VirginAmerica What @dhepburn said.         NaN   \n",
              "1  @VirginAmerica plus you've added commercials t...         NaN   \n",
              "2  @VirginAmerica I didn't today... Must mean I n...         NaN   \n",
              "3  @VirginAmerica it's really aggressive to blast...         NaN   \n",
              "4  @VirginAmerica and it's a really big bad thing...         NaN   \n",
              "\n",
              "               tweet_created tweet_location               user_timezone  \n",
              "0  2015-02-24 11:35:52 -0800            NaN  Eastern Time (US & Canada)  \n",
              "1  2015-02-24 11:15:59 -0800            NaN  Pacific Time (US & Canada)  \n",
              "2  2015-02-24 11:15:48 -0800      Lets Play  Central Time (US & Canada)  \n",
              "3  2015-02-24 11:15:36 -0800            NaN  Pacific Time (US & Canada)  \n",
              "4  2015-02-24 11:14:45 -0800            NaN  Pacific Time (US & Canada)  "
            ]
          },
          "execution_count": 119,
          "metadata": {},
          "output_type": "execute_result"
        }
      ],
      "source": [
        "df=pd.read_csv(\"/content/drive/MyDrive/archive/Tweets.csv\",delimiter=',',encoding='utf-8')\n",
        "df.head()"
      ]
    },
    {
      "cell_type": "code",
      "execution_count": null,
      "metadata": {
        "colab": {
          "base_uri": "https://localhost:8080/"
        },
        "id": "lJzZ_DMjRkGT",
        "outputId": "3f73b949-d940-4133-f1b7-ce94d5b22941"
      },
      "outputs": [
        {
          "data": {
            "text/plain": [
              "Index(['tweet_id', 'airline_sentiment', 'airline_sentiment_confidence',\n",
              "       'negativereason', 'negativereason_confidence', 'airline',\n",
              "       'airline_sentiment_gold', 'name', 'negativereason_gold',\n",
              "       'retweet_count', 'text', 'tweet_coord', 'tweet_created',\n",
              "       'tweet_location', 'user_timezone'],\n",
              "      dtype='object')"
            ]
          },
          "execution_count": 3,
          "metadata": {},
          "output_type": "execute_result"
        }
      ],
      "source": [
        "df.columns"
      ]
    },
    {
      "cell_type": "markdown",
      "metadata": {
        "id": "Ud6dGPqi9eRg"
      },
      "source": [
        "EDA"
      ]
    },
    {
      "cell_type": "code",
      "execution_count": null,
      "metadata": {
        "colab": {
          "base_uri": "https://localhost:8080/",
          "height": 266
        },
        "id": "96CSaiThxx-t",
        "outputId": "62878c84-097b-432c-ea48-c9a40e079193"
      },
      "outputs": [
        {
          "data": {
            "text/plain": [
              "<matplotlib.axes._subplots.AxesSubplot at 0x7f18de7cbed0>"
            ]
          },
          "execution_count": 96,
          "metadata": {},
          "output_type": "execute_result"
        },
        {
          "data": {
            "image/png": "[encoded data removed]",
            "text/plain": [
              "<Figure size 432x288 with 1 Axes>"
            ]
          },
          "metadata": {},
          "output_type": "display_data"
        }
      ],
      "source": [
        "df.airline.value_counts().plot(kind='pie', autopct='%1.0f%%')"
      ]
    },
    {
      "cell_type": "code",
      "execution_count": null,
      "metadata": {
        "colab": {
          "base_uri": "https://localhost:8080/",
          "height": 266
        },
        "id": "LMaB5zqr7S6h",
        "outputId": "2a03930f-d2c5-4a63-e440-15a67810c822"
      },
      "outputs": [
        {
          "data": {
            "text/plain": [
              "<matplotlib.axes._subplots.AxesSubplot at 0x7f2c53e4a610>"
            ]
          },
          "execution_count": 6,
          "metadata": {},
          "output_type": "execute_result"
        },
        {
          "data": {
            "image/png": "[encoded data removed]",
            "text/plain": [
              "<Figure size 432x288 with 1 Axes>"
            ]
          },
          "metadata": {},
          "output_type": "display_data"
        }
      ],
      "source": [
        "df.airline_sentiment.value_counts().plot(kind='pie', autopct='%1.0f%%', colors=[\"red\", \"yellow\", \"green\"])"
      ]
    },
    {
      "cell_type": "code",
      "execution_count": null,
      "metadata": {
        "colab": {
          "base_uri": "https://localhost:8080/",
          "height": 504
        },
        "id": "NHuzFxEV7dzX",
        "outputId": "167f7245-e4f3-42c9-ed10-c25740c34727"
      },
      "outputs": [
        {
          "name": "stdout",
          "output_type": "stream",
          "text": [
            "airline_sentiment  negative  neutral  positive\n",
            "airline                                       \n",
            "American               1960      463       336\n",
            "Delta                   955      723       544\n",
            "Southwest              1186      664       570\n",
            "US Airways             2263      381       269\n",
            "United                 2633      697       492\n",
            "Virgin America          181      171       152\n"
          ]
        },
        {
          "data": {
            "text/plain": [
              "<matplotlib.axes._subplots.AxesSubplot at 0x7f2c5396c210>"
            ]
          },
          "execution_count": 7,
          "metadata": {},
          "output_type": "execute_result"
        },
        {
          "data": {
            "image/png": "[encoded data removed]",
            "text/plain": [
              "<Figure size 432x288 with 1 Axes>"
            ]
          },
          "metadata": {
            "needs_background": "light"
          },
          "output_type": "display_data"
        }
      ],
      "source": [
        "airline_sentiment = df.groupby(['airline', 'airline_sentiment']).airline_sentiment.count().unstack()\n",
        "print(airline_sentiment)\n",
        "airline_sentiment.plot(kind='bar')"
      ]
    },
    {
      "cell_type": "code",
      "execution_count": null,
      "metadata": {
        "colab": {
          "base_uri": "https://localhost:8080/",
          "height": 298
        },
        "id": "DRdMjU818OLu",
        "outputId": "72309fbe-1c8d-4c23-b0cd-348c1b56adf3"
      },
      "outputs": [
        {
          "data": {
            "text/plain": [
              "<matplotlib.axes._subplots.AxesSubplot at 0x7f2c538d1110>"
            ]
          },
          "execution_count": 8,
          "metadata": {},
          "output_type": "execute_result"
        },
        {
          "data": {
            "image/png": "[encoded data removed]",
            "text/plain": [
              "<Figure size 432x288 with 1 Axes>"
            ]
          },
          "metadata": {
            "needs_background": "light"
          },
          "output_type": "display_data"
        }
      ],
      "source": [
        "sn.barplot(x='airline_sentiment', y='airline_sentiment_confidence' , data=df)"
      ]
    },
    {
      "cell_type": "markdown",
      "metadata": {
        "id": "Qx8dBDfk986u"
      },
      "source": [
        "## data cleaning"
      ]
    },
    {
      "cell_type": "code",
      "execution_count": null,
      "metadata": {
        "colab": {
          "base_uri": "https://localhost:8080/"
        },
        "id": "HK0llU7D9_oW",
        "outputId": "e9631cbb-aa5d-41bf-c3a0-36f5e799f68a"
      },
      "outputs": [
        {
          "data": {
            "text/plain": [
              "tweet_id                            0\n",
              "airline_sentiment                   0\n",
              "airline_sentiment_confidence        0\n",
              "negativereason                   5462\n",
              "negativereason_confidence        4118\n",
              "airline                             0\n",
              "airline_sentiment_gold          14600\n",
              "name                                0\n",
              "negativereason_gold             14608\n",
              "retweet_count                       0\n",
              "text                                0\n",
              "tweet_coord                     13621\n",
              "tweet_created                       0\n",
              "tweet_location                   4733\n",
              "user_timezone                    4820\n",
              "dtype: int64"
            ]
          },
          "execution_count": 4,
          "metadata": {},
          "output_type": "execute_result"
        }
      ],
      "source": [
        "df.isnull().sum()"
      ]
    },
    {
      "cell_type": "code",
      "execution_count": 121,
      "metadata": {
        "id": "1TZ678pM-rDH"
      },
      "outputs": [],
      "source": [
        "df.fillna(0,inplace=True)"
      ]
    },
    {
      "cell_type": "code",
      "execution_count": 122,
      "metadata": {
        "colab": {
          "base_uri": "https://localhost:8080/"
        },
        "id": "Rjk9A1Yh-vC1",
        "outputId": "94d51bb4-ecda-45e9-a918-1facf28411c4"
      },
      "outputs": [
        {
          "data": {
            "text/plain": [
              "tweet_id                        0.0\n",
              "airline_sentiment               0.0\n",
              "airline_sentiment_confidence    0.0\n",
              "negativereason                  0.0\n",
              "negativereason_confidence       0.0\n",
              "airline                         0.0\n",
              "airline_sentiment_gold          0.0\n",
              "name                            0.0\n",
              "negativereason_gold             0.0\n",
              "retweet_count                   0.0\n",
              "text                            0.0\n",
              "tweet_coord                     0.0\n",
              "tweet_created                   0.0\n",
              "tweet_location                  0.0\n",
              "user_timezone                   0.0\n",
              "dtype: float64"
            ]
          },
          "execution_count": 122,
          "metadata": {},
          "output_type": "execute_result"
        }
      ],
      "source": [
        "df.isnull().mean()*100"
      ]
    },
    {
      "cell_type": "code",
      "execution_count": 123,
      "metadata": {
        "colab": {
          "base_uri": "https://localhost:8080/"
        },
        "id": "-Syvsy5p_Q1o",
        "outputId": "55b5f3a5-81e1-4b1a-b25b-618aa5ef3f86"
      },
      "outputs": [
        {
          "name": "stderr",
          "output_type": "stream",
          "text": [
            "[nltk_data] Downloading package stopwords to /root/nltk_data...\n",
            "[nltk_data]   Package stopwords is already up-to-date!\n"
          ]
        },
        {
          "data": {
            "text/plain": [
              "True"
            ]
          },
          "execution_count": 123,
          "metadata": {},
          "output_type": "execute_result"
        }
      ],
      "source": [
        "import nltk\n",
        "nltk.download('stopwords')"
      ]
    },
    {
      "cell_type": "code",
      "execution_count": 124,
      "metadata": {
        "id": "2cIPcUV_-zdH"
      },
      "outputs": [],
      "source": [
        "features = df.iloc[:, 10].values\n",
        "labels = df.iloc[:, 1].values"
      ]
    },
    {
      "cell_type": "code",
      "execution_count": null,
      "metadata": {
        "id": "8F-rqydYuJea"
      },
      "outputs": [],
      "source": [
        "from nltk.corpus import stopwords\n",
        "\n",
        "\n"
      ]
    },
    {
      "cell_type": "code",
      "execution_count": 125,
      "metadata": {
        "id": "cMHyrokv_MMe"
      },
      "outputs": [],
      "source": [
        "processed_features = []\n",
        "\n",
        "for sentence in range(0, len(features)):\n",
        "    \n",
        "    features[sentence]=features[sentence].lower()\n",
        "    \n",
        "    # Remove all the special characters\n",
        "    processed_feature = re.sub(r'\\W', ' ', str(features[sentence]))\n",
        "\n",
        "    # remove all single characters\n",
        "    processed_feature= re.sub(r'\\s+[a-zA-Z]\\s+', ' ', processed_feature)\n",
        "\n",
        "    # Remove single characters from the start\n",
        "    processed_feature = re.sub(r'\\^[a-zA-Z]\\s+', ' ', processed_feature) \n",
        "\n",
        "    # Substituting multiple spaces with single space\n",
        "    processed_feature = re.sub(r'\\s+', ' ', processed_feature, flags=re.I)\n",
        "\n",
        "    # Removing prefixed 'b'\n",
        "    processed_feature = re.sub(r'^b\\s+', '', processed_feature)\n",
        "\n",
        "    \n",
        "\n",
        "    processed_features.append(processed_feature)"
      ]
    },
    {
      "cell_type": "code",
      "execution_count": 126,
      "metadata": {
        "id": "oznrW5bX_OAF"
      },
      "outputs": [],
      "source": [
        "from keras.preprocessing.text import Tokenizer\n",
        "from keras.preprocessing.sequence import pad_sequences\n",
        "\n",
        "vectorizer=Tokenizer(num_words=2500)\n",
        "vectorizer.fit_on_texts(processed_features)\n",
        "processed_features =vectorizer.texts_to_sequences(processed_features)\n",
        "\n",
        "processed_features = pad_sequences(processed_features, padding='post', maxlen=50)"
      ]
    },
    {
      "cell_type": "code",
      "execution_count": null,
      "metadata": {
        "colab": {
          "base_uri": "https://localhost:8080/"
        },
        "id": "2v674cU3q4oY",
        "outputId": "acd95c1f-275d-4d0b-bb03-4431c82231db"
      },
      "outputs": [
        {
          "data": {
            "text/plain": [
              "array([[ 77,  48, 221, ...,   0,   0,   0],\n",
              "       [ 77, 546,   3, ...,   0,   0,   0],\n",
              "       [ 77, 197,  96, ...,   0,   0,   0],\n",
              "       ...,\n",
              "       [ 11,  72, 648, ...,   0,   0,   0],\n",
              "       [ 11,   3,  22, ...,   0,   0,   0],\n",
              "       [ 11,  30,  22, ...,   0,   0,   0]], dtype=int32)"
            ]
          },
          "execution_count": 68,
          "metadata": {},
          "output_type": "execute_result"
        }
      ],
      "source": [
        "processed_features"
      ]
    },
    {
      "cell_type": "code",
      "execution_count": 127,
      "metadata": {
        "id": "HkdmNSBC_aVL"
      },
      "outputs": [],
      "source": [
        "from keras.models import Sequential\n",
        "from keras.layers import Embedding,LSTM,Dense,SpatialDropout1D,Dropout,Conv1D,MaxPooling1D,Bidirectional\n",
        "from sklearn.model_selection import train_test_split\n",
        "from tensorflow.keras.optimizers import Adam\n",
        "from keras.metrics import Precision, Recall\n",
        "\n",
        "labels=pd.get_dummies(labels)\n",
        "X_train, X_test, y_train, y_test = train_test_split(processed_features, labels, test_size=0.3, random_state=0)\n",
        "X_train,x_val, y_train, y_val =train_test_split(X_train, y_train,test_size=0.1,random_state=0)\n",
        "\n"
      ]
    },
    {
      "cell_type": "code",
      "execution_count": null,
      "metadata": {
        "colab": {
          "base_uri": "https://localhost:8080/"
        },
        "id": "BekuQ5ePHDYn",
        "outputId": "9a02f20a-8307-4ec8-8cfb-1c1b40243d1e"
      },
      "outputs": [
        {
          "name": "stdout",
          "output_type": "stream",
          "text": [
            "train data shape: (9223, 50) (9223, 3)\n",
            "test data shape: (4392, 50) (4392, 3)\n",
            "validation data shape: (1025, 50) (1025, 3)\n",
            "50\n"
          ]
        }
      ],
      "source": [
        "print(\"train data shape:\",X_train.shape,y_train.shape)\n",
        "print(\"test data shape:\",X_test.shape,y_test.shape)\n",
        "print(\"validation data shape:\",x_val.shape,y_val.shape)\n",
        "input_length=X_train.shape[1]\n",
        "print(input_length)\n"
      ]
    },
    {
      "cell_type": "code",
      "execution_count": null,
      "metadata": {
        "colab": {
          "base_uri": "https://localhost:8080/"
        },
        "id": "mcy3PWZeC292",
        "outputId": "4142ad94-a404-44c7-a7be-a33c1318b232"
      },
      "outputs": [
        {
          "name": "stderr",
          "output_type": "stream",
          "text": [
            "400000it [00:04, 84891.13it/s]\n"
          ]
        }
      ],
      "source": [
        "from tqdm import tqdm\n",
        "embedding_vector = {}\n",
        "f = open('/content/drive/MyDrive/glove.6B.50d.txt')\n",
        "for line in tqdm(f):\n",
        "    value = line.split(' ')\n",
        "    word = value[0]\n",
        "    coef = np.array(value[1:],dtype = 'float32')\n",
        "    embedding_vector[word] = coef"
      ]
    },
    {
      "cell_type": "code",
      "execution_count": null,
      "metadata": {
        "colab": {
          "base_uri": "https://localhost:8080/"
        },
        "id": "SztfPVlQDPMF",
        "outputId": "dc530a78-c4bb-40d8-a80a-d4aac74d9435"
      },
      "outputs": [
        {
          "name": "stderr",
          "output_type": "stream",
          "text": [
            "100%|██████████| 15084/15084 [00:00<00:00, 510900.73it/s]\n"
          ]
        }
      ],
      "source": [
        "vocab_size = len(vectorizer.word_index)+1\n",
        "embedding_matrix = np.zeros((vocab_size,50))\n",
        "for word,i in tqdm(vectorizer.word_index.items()):\n",
        "    embedding_value = embedding_vector.get(word)\n",
        "    if embedding_value is not None:\n",
        "        embedding_matrix[i] = embedding_value"
      ]
    },
    {
      "cell_type": "code",
      "execution_count": null,
      "metadata": {
        "colab": {
          "base_uri": "https://localhost:8080/"
        },
        "id": "j_bkU62qESXF",
        "outputId": "201050e5-19e1-477e-d51a-facb429c7d80"
      },
      "outputs": [
        {
          "data": {
            "text/plain": [
              "15085"
            ]
          },
          "execution_count": 82,
          "metadata": {},
          "output_type": "execute_result"
        }
      ],
      "source": [
        "len(vectorizer.word_index)+1"
      ]
    },
    {
      "cell_type": "markdown",
      "metadata": {
        "id": "x0Z0KZpKA5Wv"
      },
      "source": [
        "## Build LSTM Model"
      ]
    },
    {
      "cell_type": "markdown",
      "metadata": {
        "id": "xWnw7odblmdd"
      },
      "source": [
        "sgd = SGD(learning_rate, momentum=momentum, decay=decay_rate, nesterov=False)"
      ]
    },
    {
      "cell_type": "code",
      "execution_count": 128,
      "metadata": {
        "id": "mUInrqdGjAdF"
      },
      "outputs": [],
      "source": [
        "\n",
        "opt=Adam(learning_rate=3.0351e-07)"
      ]
    },
    {
      "cell_type": "code",
      "execution_count": 131,
      "metadata": {
        "colab": {
          "base_uri": "https://localhost:8080/"
        },
        "id": "zy2PtFjZCmoB",
        "outputId": "096c138d-4b83-4ba8-9e88-92e936684770"
      },
      "outputs": [
        {
          "name": "stdout",
          "output_type": "stream",
          "text": [
            "Model: \"sequential_11\"\n",
            "_________________________________________________________________\n",
            " Layer (type)                Output Shape              Param #   \n",
            "=================================================================\n",
            " embedding_11 (Embedding)    (None, 50, 50)            754250    \n",
            "                                                                 \n",
            " lstm_11 (LSTM)              (None, 196)               193648    \n",
            "                                                                 \n",
            " dropout_9 (Dropout)         (None, 196)               0         \n",
            "                                                                 \n",
            " dense_11 (Dense)            (None, 3)                 591       \n",
            "                                                                 \n",
            "=================================================================\n",
            "Total params: 948,489\n",
            "Trainable params: 194,239\n",
            "Non-trainable params: 754,250\n",
            "_________________________________________________________________\n",
            "None\n"
          ]
        }
      ],
      "source": [
        "max_features=2500\n",
        "embed_dim=128\n",
        "model=Sequential()\n",
        "model.add(Embedding(vocab_size,50,weights = [embedding_matrix],input_length=50,trainable = False))\n",
        "model.add(LSTM(196,dropout=0.6))\n",
        "model.add(Dropout(0.4))\n",
        "model.add(LSTM(128))\n",
        "model.add(Dropout(0.4))\n",
        "model.add(Dense(3,activation='softmax'))\n",
        "model.compile(loss='categorical_crossentropy',optimizer='adam' ,metrics=['accuracy'])\n",
        "print(model.summary())\n",
        "\n",
        "\n"
      ]
    },
    {
      "cell_type": "code",
      "execution_count": null,
      "metadata": {
        "colab": {
          "base_uri": "https://localhost:8080/",
          "height": 533
        },
        "id": "ZeZi0I9wNHq9",
        "outputId": "f1dec650-7d7a-4647-abc4-df9cf263a823"
      },
      "outputs": [
        {
          "data": {
            "image/png": "[encoded data removed]",
            "text/plain": [
              "<IPython.core.display.Image object>"
            ]
          },
          "execution_count": 116,
          "metadata": {},
          "output_type": "execute_result"
        }
      ],
      "source": [
        "from keras.utils.vis_utils import plot_model\n",
        "plot_model(model, show_shapes = True)"
      ]
    },
    {
      "cell_type": "code",
      "execution_count": null,
      "metadata": {
        "colab": {
          "base_uri": "https://localhost:8080/",
          "height": 35
        },
        "id": "qQqQ72rzXHRL",
        "outputId": "bf3e63a8-7051-468d-bbcd-a563468ce8e9"
      },
      "outputs": [
        {
          "data": {
            "application/vnd.google.colaboratory.intrinsic+json": {
              "type": "string"
            },
            "text/plain": [
              "'/device:GPU:0'"
            ]
          },
          "execution_count": 86,
          "metadata": {},
          "output_type": "execute_result"
        }
      ],
      "source": [
        "import tensorflow as tf\n",
        "tf.test.gpu_device_name()"
      ]
    },
    {
      "cell_type": "code",
      "execution_count": 133,
      "metadata": {
        "colab": {
          "base_uri": "https://localhost:8080/"
        },
        "id": "VaOgmH6ANTdX",
        "outputId": "a152e41a-7213-4d2c-ada0-33d4a83d80df"
      },
      "outputs": [
        {
          "name": "stdout",
          "output_type": "stream",
          "text": [
            "Epoch 1/200\n",
            "289/289 [==============================] - 2s 7ms/step - loss: 0.2846 - accuracy: 0.8943 - val_loss: 0.7621 - val_accuracy: 0.7668\n",
            "Epoch 2/200\n",
            "289/289 [==============================] - 2s 7ms/step - loss: 0.2859 - accuracy: 0.8942 - val_loss: 0.7525 - val_accuracy: 0.7649\n",
            "Epoch 3/200\n",
            "289/289 [==============================] - 2s 7ms/step - loss: 0.2804 - accuracy: 0.8991 - val_loss: 0.7510 - val_accuracy: 0.7580\n",
            "Epoch 4/200\n",
            "289/289 [==============================] - 2s 7ms/step - loss: 0.2772 - accuracy: 0.9007 - val_loss: 0.7642 - val_accuracy: 0.7649\n",
            "Epoch 5/200\n",
            "289/289 [==============================] - 2s 7ms/step - loss: 0.2937 - accuracy: 0.8908 - val_loss: 0.7561 - val_accuracy: 0.7629\n",
            "Epoch 6/200\n",
            "289/289 [==============================] - 2s 7ms/step - loss: 0.2804 - accuracy: 0.8943 - val_loss: 0.7970 - val_accuracy: 0.7776\n",
            "Epoch 7/200\n",
            "289/289 [==============================] - 2s 7ms/step - loss: 0.2898 - accuracy: 0.8929 - val_loss: 0.7461 - val_accuracy: 0.7785\n",
            "Epoch 8/200\n",
            "289/289 [==============================] - 2s 7ms/step - loss: 0.2806 - accuracy: 0.8976 - val_loss: 0.7846 - val_accuracy: 0.7717\n",
            "Epoch 9/200\n",
            "289/289 [==============================] - 2s 7ms/step - loss: 0.2878 - accuracy: 0.8946 - val_loss: 0.7412 - val_accuracy: 0.7698\n",
            "Epoch 10/200\n",
            "289/289 [==============================] - 2s 7ms/step - loss: 0.2854 - accuracy: 0.8924 - val_loss: 0.7797 - val_accuracy: 0.7620\n",
            "Epoch 11/200\n",
            "289/289 [==============================] - 2s 7ms/step - loss: 0.2745 - accuracy: 0.9012 - val_loss: 0.7655 - val_accuracy: 0.7512\n",
            "Epoch 12/200\n",
            "289/289 [==============================] - 2s 7ms/step - loss: 0.2778 - accuracy: 0.8979 - val_loss: 0.7707 - val_accuracy: 0.7766\n",
            "Epoch 13/200\n",
            "289/289 [==============================] - 2s 7ms/step - loss: 0.2789 - accuracy: 0.8960 - val_loss: 0.7751 - val_accuracy: 0.7698\n",
            "Epoch 14/200\n",
            "289/289 [==============================] - 2s 7ms/step - loss: 0.2925 - accuracy: 0.8906 - val_loss: 0.7635 - val_accuracy: 0.7766\n",
            "Epoch 15/200\n",
            "289/289 [==============================] - 2s 7ms/step - loss: 0.2769 - accuracy: 0.8983 - val_loss: 0.7749 - val_accuracy: 0.7678\n",
            "Epoch 16/200\n",
            "289/289 [==============================] - 2s 7ms/step - loss: 0.2669 - accuracy: 0.8997 - val_loss: 0.7649 - val_accuracy: 0.7698\n",
            "Epoch 17/200\n",
            "289/289 [==============================] - 2s 7ms/step - loss: 0.2678 - accuracy: 0.9044 - val_loss: 0.8292 - val_accuracy: 0.7668\n",
            "Epoch 18/200\n",
            "289/289 [==============================] - 2s 7ms/step - loss: 0.2877 - accuracy: 0.8957 - val_loss: 0.7854 - val_accuracy: 0.7561\n",
            "Epoch 19/200\n",
            "289/289 [==============================] - 2s 7ms/step - loss: 0.2719 - accuracy: 0.8993 - val_loss: 0.8050 - val_accuracy: 0.7600\n",
            "Epoch 20/200\n",
            "289/289 [==============================] - 2s 7ms/step - loss: 0.2730 - accuracy: 0.8963 - val_loss: 0.8322 - val_accuracy: 0.7698\n",
            "Epoch 21/200\n",
            "289/289 [==============================] - 2s 7ms/step - loss: 0.2774 - accuracy: 0.8979 - val_loss: 0.7667 - val_accuracy: 0.7551\n",
            "Epoch 22/200\n",
            "289/289 [==============================] - 2s 7ms/step - loss: 0.2794 - accuracy: 0.8948 - val_loss: 0.7820 - val_accuracy: 0.7600\n",
            "Epoch 23/200\n",
            "289/289 [==============================] - 2s 7ms/step - loss: 0.2805 - accuracy: 0.8924 - val_loss: 0.7906 - val_accuracy: 0.7571\n",
            "Epoch 24/200\n",
            "289/289 [==============================] - 2s 7ms/step - loss: 0.2743 - accuracy: 0.8999 - val_loss: 0.7743 - val_accuracy: 0.7717\n",
            "Epoch 25/200\n",
            "289/289 [==============================] - 2s 7ms/step - loss: 0.2670 - accuracy: 0.9007 - val_loss: 0.7977 - val_accuracy: 0.7659\n",
            "Epoch 26/200\n",
            "289/289 [==============================] - 2s 7ms/step - loss: 0.2561 - accuracy: 0.9069 - val_loss: 0.8108 - val_accuracy: 0.7717\n",
            "Epoch 27/200\n",
            "289/289 [==============================] - 2s 7ms/step - loss: 0.2788 - accuracy: 0.8968 - val_loss: 0.7945 - val_accuracy: 0.7639\n",
            "Epoch 28/200\n",
            "289/289 [==============================] - 2s 7ms/step - loss: 0.2784 - accuracy: 0.9001 - val_loss: 0.7687 - val_accuracy: 0.7620\n",
            "Epoch 29/200\n",
            "289/289 [==============================] - 2s 7ms/step - loss: 0.2712 - accuracy: 0.8996 - val_loss: 0.8141 - val_accuracy: 0.7698\n",
            "Epoch 30/200\n",
            "289/289 [==============================] - 2s 7ms/step - loss: 0.2813 - accuracy: 0.9005 - val_loss: 0.7416 - val_accuracy: 0.7746\n",
            "Epoch 31/200\n",
            "289/289 [==============================] - 2s 7ms/step - loss: 0.2751 - accuracy: 0.8979 - val_loss: 0.7498 - val_accuracy: 0.7512\n",
            "Epoch 32/200\n",
            "289/289 [==============================] - 2s 7ms/step - loss: 0.2604 - accuracy: 0.9036 - val_loss: 0.8494 - val_accuracy: 0.7580\n",
            "Epoch 33/200\n",
            "289/289 [==============================] - 2s 7ms/step - loss: 0.2713 - accuracy: 0.9036 - val_loss: 0.8105 - val_accuracy: 0.7493\n",
            "Epoch 34/200\n",
            "289/289 [==============================] - 2s 7ms/step - loss: 0.2769 - accuracy: 0.8980 - val_loss: 0.8057 - val_accuracy: 0.7610\n",
            "Epoch 35/200\n",
            "289/289 [==============================] - 2s 7ms/step - loss: 0.2706 - accuracy: 0.9035 - val_loss: 0.8305 - val_accuracy: 0.7620\n",
            "Epoch 36/200\n",
            "289/289 [==============================] - 2s 7ms/step - loss: 0.2700 - accuracy: 0.8973 - val_loss: 0.8135 - val_accuracy: 0.7580\n",
            "Epoch 37/200\n",
            "289/289 [==============================] - 2s 7ms/step - loss: 0.2566 - accuracy: 0.9066 - val_loss: 0.8077 - val_accuracy: 0.7610\n",
            "Epoch 38/200\n",
            "289/289 [==============================] - 2s 7ms/step - loss: 0.2622 - accuracy: 0.9050 - val_loss: 0.8250 - val_accuracy: 0.7590\n",
            "Epoch 39/200\n",
            "289/289 [==============================] - 2s 7ms/step - loss: 0.2537 - accuracy: 0.9072 - val_loss: 0.8462 - val_accuracy: 0.7678\n",
            "Epoch 40/200\n",
            "289/289 [==============================] - 2s 7ms/step - loss: 0.2727 - accuracy: 0.9008 - val_loss: 0.8095 - val_accuracy: 0.7541\n",
            "Epoch 41/200\n",
            "289/289 [==============================] - 2s 7ms/step - loss: 0.2546 - accuracy: 0.9090 - val_loss: 0.8299 - val_accuracy: 0.7600\n",
            "Epoch 42/200\n",
            "289/289 [==============================] - 2s 7ms/step - loss: 0.2672 - accuracy: 0.8989 - val_loss: 0.8021 - val_accuracy: 0.7610\n",
            "Epoch 43/200\n",
            "289/289 [==============================] - 2s 7ms/step - loss: 0.2551 - accuracy: 0.9078 - val_loss: 0.8770 - val_accuracy: 0.7580\n",
            "Epoch 44/200\n",
            "289/289 [==============================] - 2s 7ms/step - loss: 0.2511 - accuracy: 0.9096 - val_loss: 0.8167 - val_accuracy: 0.7473\n",
            "Epoch 45/200\n",
            "289/289 [==============================] - 2s 7ms/step - loss: 0.2533 - accuracy: 0.9079 - val_loss: 0.8577 - val_accuracy: 0.7522\n",
            "Epoch 46/200\n",
            "289/289 [==============================] - 2s 7ms/step - loss: 0.2533 - accuracy: 0.9075 - val_loss: 0.8191 - val_accuracy: 0.7590\n",
            "Epoch 47/200\n",
            "289/289 [==============================] - 2s 7ms/step - loss: 0.2555 - accuracy: 0.9060 - val_loss: 0.8221 - val_accuracy: 0.7434\n",
            "Epoch 48/200\n",
            "289/289 [==============================] - 2s 7ms/step - loss: 0.2588 - accuracy: 0.9027 - val_loss: 0.8642 - val_accuracy: 0.7620\n",
            "Epoch 49/200\n",
            "289/289 [==============================] - 2s 7ms/step - loss: 0.2601 - accuracy: 0.9060 - val_loss: 0.8813 - val_accuracy: 0.7580\n",
            "Epoch 50/200\n",
            "289/289 [==============================] - 2s 7ms/step - loss: 0.2596 - accuracy: 0.9085 - val_loss: 0.8275 - val_accuracy: 0.7532\n",
            "Epoch 51/200\n",
            "289/289 [==============================] - 2s 7ms/step - loss: 0.2595 - accuracy: 0.9019 - val_loss: 0.8688 - val_accuracy: 0.7659\n",
            "Epoch 52/200\n",
            "289/289 [==============================] - 2s 7ms/step - loss: 0.2578 - accuracy: 0.9065 - val_loss: 0.8710 - val_accuracy: 0.7717\n",
            "Epoch 53/200\n",
            "289/289 [==============================] - 2s 7ms/step - loss: 0.2614 - accuracy: 0.9037 - val_loss: 0.8456 - val_accuracy: 0.7737\n",
            "Epoch 54/200\n",
            "289/289 [==============================] - 2s 7ms/step - loss: 0.2628 - accuracy: 0.9039 - val_loss: 0.7842 - val_accuracy: 0.7688\n",
            "Epoch 55/200\n",
            "289/289 [==============================] - 2s 7ms/step - loss: 0.2416 - accuracy: 0.9097 - val_loss: 0.9223 - val_accuracy: 0.7512\n",
            "Epoch 56/200\n",
            "289/289 [==============================] - 2s 7ms/step - loss: 0.2584 - accuracy: 0.9022 - val_loss: 0.8755 - val_accuracy: 0.7659\n",
            "Epoch 57/200\n",
            "289/289 [==============================] - 2s 7ms/step - loss: 0.2556 - accuracy: 0.9045 - val_loss: 0.8290 - val_accuracy: 0.7620\n",
            "Epoch 58/200\n",
            "289/289 [==============================] - 2s 7ms/step - loss: 0.2497 - accuracy: 0.9074 - val_loss: 0.8839 - val_accuracy: 0.7473\n",
            "Epoch 59/200\n",
            "289/289 [==============================] - 2s 7ms/step - loss: 0.2592 - accuracy: 0.9061 - val_loss: 0.8848 - val_accuracy: 0.7649\n",
            "Epoch 60/200\n",
            "289/289 [==============================] - 2s 7ms/step - loss: 0.2565 - accuracy: 0.9070 - val_loss: 0.7751 - val_accuracy: 0.7639\n",
            "Epoch 61/200\n",
            "289/289 [==============================] - 2s 7ms/step - loss: 0.2519 - accuracy: 0.9083 - val_loss: 0.8334 - val_accuracy: 0.7590\n",
            "Epoch 62/200\n",
            "289/289 [==============================] - 2s 7ms/step - loss: 0.2457 - accuracy: 0.9085 - val_loss: 0.8505 - val_accuracy: 0.7551\n",
            "Epoch 63/200\n",
            "289/289 [==============================] - 2s 7ms/step - loss: 0.2499 - accuracy: 0.9090 - val_loss: 0.8467 - val_accuracy: 0.7698\n",
            "Epoch 64/200\n",
            "289/289 [==============================] - 2s 7ms/step - loss: 0.2526 - accuracy: 0.9112 - val_loss: 0.8296 - val_accuracy: 0.7502\n",
            "Epoch 65/200\n",
            "289/289 [==============================] - 2s 7ms/step - loss: 0.2504 - accuracy: 0.9081 - val_loss: 0.8557 - val_accuracy: 0.7571\n",
            "Epoch 66/200\n",
            "289/289 [==============================] - 2s 7ms/step - loss: 0.2572 - accuracy: 0.9110 - val_loss: 0.8789 - val_accuracy: 0.7571\n",
            "Epoch 67/200\n",
            "289/289 [==============================] - 2s 7ms/step - loss: 0.2344 - accuracy: 0.9145 - val_loss: 0.9324 - val_accuracy: 0.7580\n",
            "Epoch 68/200\n",
            "289/289 [==============================] - 2s 7ms/step - loss: 0.2369 - accuracy: 0.9137 - val_loss: 0.8949 - val_accuracy: 0.7502\n",
            "Epoch 69/200\n",
            "289/289 [==============================] - 2s 7ms/step - loss: 0.2355 - accuracy: 0.9158 - val_loss: 0.8971 - val_accuracy: 0.7493\n",
            "Epoch 70/200\n",
            "289/289 [==============================] - 2s 7ms/step - loss: 0.2466 - accuracy: 0.9130 - val_loss: 0.8390 - val_accuracy: 0.7600\n",
            "Epoch 71/200\n",
            "289/289 [==============================] - 2s 7ms/step - loss: 0.2569 - accuracy: 0.9078 - val_loss: 0.8201 - val_accuracy: 0.7551\n",
            "Epoch 72/200\n",
            "289/289 [==============================] - 2s 7ms/step - loss: 0.2507 - accuracy: 0.9097 - val_loss: 0.8615 - val_accuracy: 0.7698\n",
            "Epoch 73/200\n",
            "289/289 [==============================] - 2s 7ms/step - loss: 0.2362 - accuracy: 0.9136 - val_loss: 0.9256 - val_accuracy: 0.7620\n",
            "Epoch 74/200\n",
            "289/289 [==============================] - 2s 7ms/step - loss: 0.2399 - accuracy: 0.9101 - val_loss: 0.8778 - val_accuracy: 0.7668\n",
            "Epoch 75/200\n",
            "289/289 [==============================] - 2s 7ms/step - loss: 0.2537 - accuracy: 0.9071 - val_loss: 0.8864 - val_accuracy: 0.7746\n",
            "Epoch 76/200\n",
            "289/289 [==============================] - 2s 7ms/step - loss: 0.2497 - accuracy: 0.9075 - val_loss: 0.8364 - val_accuracy: 0.7668\n",
            "Epoch 77/200\n",
            "289/289 [==============================] - 2s 7ms/step - loss: 0.2425 - accuracy: 0.9137 - val_loss: 0.8262 - val_accuracy: 0.7688\n",
            "Epoch 78/200\n",
            "289/289 [==============================] - 2s 7ms/step - loss: 0.2390 - accuracy: 0.9116 - val_loss: 0.8509 - val_accuracy: 0.7668\n",
            "Epoch 79/200\n",
            "289/289 [==============================] - 2s 7ms/step - loss: 0.2470 - accuracy: 0.9099 - val_loss: 0.8692 - val_accuracy: 0.7639\n",
            "Epoch 80/200\n",
            "289/289 [==============================] - 2s 7ms/step - loss: 0.2270 - accuracy: 0.9180 - val_loss: 0.9829 - val_accuracy: 0.7571\n",
            "Epoch 81/200\n",
            "289/289 [==============================] - 2s 7ms/step - loss: 0.2442 - accuracy: 0.9128 - val_loss: 0.8867 - val_accuracy: 0.7541\n",
            "Epoch 82/200\n",
            "289/289 [==============================] - 2s 7ms/step - loss: 0.2458 - accuracy: 0.9076 - val_loss: 0.9283 - val_accuracy: 0.7620\n",
            "Epoch 83/200\n",
            "289/289 [==============================] - 2s 7ms/step - loss: 0.2364 - accuracy: 0.9153 - val_loss: 0.9035 - val_accuracy: 0.7668\n",
            "Epoch 84/200\n",
            "289/289 [==============================] - 2s 7ms/step - loss: 0.2377 - accuracy: 0.9134 - val_loss: 0.8612 - val_accuracy: 0.7600\n",
            "Epoch 85/200\n",
            "289/289 [==============================] - 2s 7ms/step - loss: 0.2425 - accuracy: 0.9117 - val_loss: 0.8805 - val_accuracy: 0.7600\n",
            "Epoch 86/200\n",
            "289/289 [==============================] - 2s 7ms/step - loss: 0.2369 - accuracy: 0.9136 - val_loss: 0.8924 - val_accuracy: 0.7620\n",
            "Epoch 87/200\n",
            "289/289 [==============================] - 2s 7ms/step - loss: 0.2565 - accuracy: 0.9082 - val_loss: 0.8535 - val_accuracy: 0.7580\n",
            "Epoch 88/200\n",
            "289/289 [==============================] - 2s 7ms/step - loss: 0.2432 - accuracy: 0.9123 - val_loss: 0.8827 - val_accuracy: 0.7571\n",
            "Epoch 89/200\n",
            "289/289 [==============================] - 2s 7ms/step - loss: 0.2402 - accuracy: 0.9120 - val_loss: 0.8594 - val_accuracy: 0.7541\n",
            "Epoch 90/200\n",
            "289/289 [==============================] - 2s 7ms/step - loss: 0.2408 - accuracy: 0.9133 - val_loss: 0.8837 - val_accuracy: 0.7620\n",
            "Epoch 91/200\n",
            "289/289 [==============================] - 2s 7ms/step - loss: 0.2255 - accuracy: 0.9190 - val_loss: 0.8588 - val_accuracy: 0.7571\n",
            "Epoch 92/200\n",
            "289/289 [==============================] - 2s 7ms/step - loss: 0.2339 - accuracy: 0.9151 - val_loss: 0.8192 - val_accuracy: 0.7580\n",
            "Epoch 93/200\n",
            "289/289 [==============================] - 2s 7ms/step - loss: 0.2348 - accuracy: 0.9134 - val_loss: 0.8422 - val_accuracy: 0.7541\n",
            "Epoch 94/200\n",
            "289/289 [==============================] - 2s 7ms/step - loss: 0.2352 - accuracy: 0.9173 - val_loss: 0.9116 - val_accuracy: 0.7600\n",
            "Epoch 95/200\n",
            "289/289 [==============================] - 2s 7ms/step - loss: 0.2334 - accuracy: 0.9169 - val_loss: 0.9179 - val_accuracy: 0.7473\n",
            "Epoch 96/200\n",
            "289/289 [==============================] - 2s 7ms/step - loss: 0.2306 - accuracy: 0.9200 - val_loss: 0.8762 - val_accuracy: 0.7580\n",
            "Epoch 97/200\n",
            "289/289 [==============================] - 2s 7ms/step - loss: 0.2327 - accuracy: 0.9178 - val_loss: 0.9501 - val_accuracy: 0.7512\n",
            "Epoch 98/200\n",
            "289/289 [==============================] - 2s 7ms/step - loss: 0.2275 - accuracy: 0.9172 - val_loss: 0.8848 - val_accuracy: 0.7620\n",
            "Epoch 99/200\n",
            "289/289 [==============================] - 2s 7ms/step - loss: 0.2368 - accuracy: 0.9167 - val_loss: 0.8487 - val_accuracy: 0.7629\n",
            "Epoch 100/200\n",
            "289/289 [==============================] - 2s 7ms/step - loss: 0.2361 - accuracy: 0.9150 - val_loss: 0.8135 - val_accuracy: 0.7571\n",
            "Epoch 101/200\n",
            "289/289 [==============================] - 2s 7ms/step - loss: 0.2384 - accuracy: 0.9140 - val_loss: 0.8615 - val_accuracy: 0.7541\n",
            "Epoch 102/200\n",
            "289/289 [==============================] - 2s 7ms/step - loss: 0.2283 - accuracy: 0.9172 - val_loss: 0.8766 - val_accuracy: 0.7678\n",
            "Epoch 103/200\n",
            "289/289 [==============================] - 2s 7ms/step - loss: 0.2467 - accuracy: 0.9135 - val_loss: 0.8542 - val_accuracy: 0.7600\n",
            "Epoch 104/200\n",
            "289/289 [==============================] - 2s 7ms/step - loss: 0.2275 - accuracy: 0.9194 - val_loss: 0.8533 - val_accuracy: 0.7571\n",
            "Epoch 105/200\n",
            "289/289 [==============================] - 2s 7ms/step - loss: 0.2264 - accuracy: 0.9199 - val_loss: 0.8497 - val_accuracy: 0.7600\n",
            "Epoch 106/200\n",
            "289/289 [==============================] - 2s 7ms/step - loss: 0.2272 - accuracy: 0.9149 - val_loss: 0.9176 - val_accuracy: 0.7727\n",
            "Epoch 107/200\n",
            "289/289 [==============================] - 2s 7ms/step - loss: 0.2315 - accuracy: 0.9165 - val_loss: 0.8981 - val_accuracy: 0.7580\n",
            "Epoch 108/200\n",
            "289/289 [==============================] - 2s 7ms/step - loss: 0.2386 - accuracy: 0.9145 - val_loss: 0.8356 - val_accuracy: 0.7698\n",
            "Epoch 109/200\n",
            "289/289 [==============================] - 2s 7ms/step - loss: 0.2329 - accuracy: 0.9171 - val_loss: 0.8549 - val_accuracy: 0.7629\n",
            "Epoch 110/200\n",
            "289/289 [==============================] - 2s 7ms/step - loss: 0.2340 - accuracy: 0.9149 - val_loss: 0.8839 - val_accuracy: 0.7590\n",
            "Epoch 111/200\n",
            "289/289 [==============================] - 2s 7ms/step - loss: 0.2339 - accuracy: 0.9120 - val_loss: 0.9307 - val_accuracy: 0.7639\n",
            "Epoch 112/200\n",
            "289/289 [==============================] - 2s 7ms/step - loss: 0.2360 - accuracy: 0.9103 - val_loss: 0.8274 - val_accuracy: 0.7629\n",
            "Epoch 113/200\n",
            "289/289 [==============================] - 2s 7ms/step - loss: 0.2359 - accuracy: 0.9168 - val_loss: 0.8377 - val_accuracy: 0.7620\n",
            "Epoch 114/200\n",
            "289/289 [==============================] - 2s 7ms/step - loss: 0.2249 - accuracy: 0.9205 - val_loss: 0.8970 - val_accuracy: 0.7629\n",
            "Epoch 115/200\n",
            "289/289 [==============================] - 2s 7ms/step - loss: 0.2350 - accuracy: 0.9163 - val_loss: 0.8651 - val_accuracy: 0.7610\n",
            "Epoch 116/200\n",
            "289/289 [==============================] - 2s 7ms/step - loss: 0.2225 - accuracy: 0.9205 - val_loss: 0.9263 - val_accuracy: 0.7512\n",
            "Epoch 117/200\n",
            "289/289 [==============================] - 2s 7ms/step - loss: 0.2360 - accuracy: 0.9124 - val_loss: 0.8979 - val_accuracy: 0.7600\n",
            "Epoch 118/200\n",
            "289/289 [==============================] - 2s 7ms/step - loss: 0.2371 - accuracy: 0.9171 - val_loss: 0.8083 - val_accuracy: 0.7659\n",
            "Epoch 119/200\n",
            "289/289 [==============================] - 3s 9ms/step - loss: 0.2265 - accuracy: 0.9177 - val_loss: 0.8792 - val_accuracy: 0.7571\n",
            "Epoch 120/200\n",
            "289/289 [==============================] - 2s 7ms/step - loss: 0.2252 - accuracy: 0.9212 - val_loss: 0.9067 - val_accuracy: 0.7512\n",
            "Epoch 121/200\n",
            "289/289 [==============================] - 2s 7ms/step - loss: 0.2281 - accuracy: 0.9162 - val_loss: 0.8669 - val_accuracy: 0.7502\n",
            "Epoch 122/200\n",
            "289/289 [==============================] - 2s 7ms/step - loss: 0.2160 - accuracy: 0.9226 - val_loss: 0.8915 - val_accuracy: 0.7590\n",
            "Epoch 123/200\n",
            "289/289 [==============================] - 2s 7ms/step - loss: 0.2236 - accuracy: 0.9220 - val_loss: 0.9306 - val_accuracy: 0.7580\n",
            "Epoch 124/200\n",
            "289/289 [==============================] - 2s 7ms/step - loss: 0.2341 - accuracy: 0.9172 - val_loss: 0.9156 - val_accuracy: 0.7444\n",
            "Epoch 125/200\n",
            "289/289 [==============================] - 2s 7ms/step - loss: 0.2216 - accuracy: 0.9244 - val_loss: 0.9622 - val_accuracy: 0.7600\n",
            "Epoch 126/200\n",
            "289/289 [==============================] - 2s 7ms/step - loss: 0.2289 - accuracy: 0.9163 - val_loss: 0.9031 - val_accuracy: 0.7629\n",
            "Epoch 127/200\n",
            "289/289 [==============================] - 2s 7ms/step - loss: 0.2304 - accuracy: 0.9141 - val_loss: 0.9606 - val_accuracy: 0.7639\n",
            "Epoch 128/200\n",
            "289/289 [==============================] - 2s 7ms/step - loss: 0.2234 - accuracy: 0.9212 - val_loss: 0.9016 - val_accuracy: 0.7688\n",
            "Epoch 129/200\n",
            "289/289 [==============================] - 2s 7ms/step - loss: 0.2246 - accuracy: 0.9182 - val_loss: 0.8871 - val_accuracy: 0.7639\n",
            "Epoch 130/200\n",
            "289/289 [==============================] - 2s 7ms/step - loss: 0.2197 - accuracy: 0.9199 - val_loss: 0.8798 - val_accuracy: 0.7659\n",
            "Epoch 131/200\n",
            "289/289 [==============================] - 2s 7ms/step - loss: 0.2272 - accuracy: 0.9206 - val_loss: 0.8987 - val_accuracy: 0.7649\n",
            "Epoch 132/200\n",
            "289/289 [==============================] - 2s 7ms/step - loss: 0.2211 - accuracy: 0.9197 - val_loss: 0.9392 - val_accuracy: 0.7629\n",
            "Epoch 133/200\n",
            "289/289 [==============================] - 2s 7ms/step - loss: 0.2219 - accuracy: 0.9211 - val_loss: 0.9072 - val_accuracy: 0.7629\n",
            "Epoch 134/200\n",
            "289/289 [==============================] - 2s 7ms/step - loss: 0.2241 - accuracy: 0.9191 - val_loss: 0.8806 - val_accuracy: 0.7678\n",
            "Epoch 135/200\n",
            "289/289 [==============================] - 2s 7ms/step - loss: 0.2257 - accuracy: 0.9211 - val_loss: 0.8767 - val_accuracy: 0.7541\n",
            "Epoch 136/200\n",
            "289/289 [==============================] - 2s 7ms/step - loss: 0.2309 - accuracy: 0.9193 - val_loss: 0.9112 - val_accuracy: 0.7522\n",
            "Epoch 137/200\n",
            "289/289 [==============================] - 2s 7ms/step - loss: 0.2247 - accuracy: 0.9219 - val_loss: 0.8611 - val_accuracy: 0.7639\n",
            "Epoch 138/200\n",
            "289/289 [==============================] - 2s 7ms/step - loss: 0.2168 - accuracy: 0.9213 - val_loss: 0.8502 - val_accuracy: 0.7473\n",
            "Epoch 139/200\n",
            "289/289 [==============================] - 2s 7ms/step - loss: 0.2244 - accuracy: 0.9222 - val_loss: 0.8512 - val_accuracy: 0.7620\n",
            "Epoch 140/200\n",
            "289/289 [==============================] - 2s 7ms/step - loss: 0.2108 - accuracy: 0.9263 - val_loss: 0.8831 - val_accuracy: 0.7463\n",
            "Epoch 141/200\n",
            "289/289 [==============================] - 2s 7ms/step - loss: 0.2187 - accuracy: 0.9212 - val_loss: 0.8556 - val_accuracy: 0.7493\n",
            "Epoch 142/200\n",
            "289/289 [==============================] - 2s 7ms/step - loss: 0.2065 - accuracy: 0.9255 - val_loss: 0.8998 - val_accuracy: 0.7580\n",
            "Epoch 143/200\n",
            "289/289 [==============================] - 2s 7ms/step - loss: 0.2252 - accuracy: 0.9218 - val_loss: 0.8329 - val_accuracy: 0.7561\n",
            "Epoch 144/200\n",
            "289/289 [==============================] - 2s 7ms/step - loss: 0.2251 - accuracy: 0.9189 - val_loss: 0.8956 - val_accuracy: 0.7483\n",
            "Epoch 145/200\n",
            "289/289 [==============================] - 2s 7ms/step - loss: 0.2218 - accuracy: 0.9201 - val_loss: 0.8621 - val_accuracy: 0.7600\n",
            "Epoch 146/200\n",
            "289/289 [==============================] - 2s 7ms/step - loss: 0.2254 - accuracy: 0.9192 - val_loss: 0.8564 - val_accuracy: 0.7600\n",
            "Epoch 147/200\n",
            "289/289 [==============================] - 2s 7ms/step - loss: 0.2261 - accuracy: 0.9175 - val_loss: 0.8839 - val_accuracy: 0.7541\n",
            "Epoch 148/200\n",
            "289/289 [==============================] - 2s 7ms/step - loss: 0.2222 - accuracy: 0.9215 - val_loss: 0.8542 - val_accuracy: 0.7737\n",
            "Epoch 149/200\n",
            "289/289 [==============================] - 2s 7ms/step - loss: 0.2152 - accuracy: 0.9214 - val_loss: 0.9295 - val_accuracy: 0.7522\n",
            "Epoch 150/200\n",
            "289/289 [==============================] - 2s 7ms/step - loss: 0.2122 - accuracy: 0.9231 - val_loss: 0.9440 - val_accuracy: 0.7649\n",
            "Epoch 151/200\n",
            "289/289 [==============================] - 2s 7ms/step - loss: 0.2158 - accuracy: 0.9236 - val_loss: 0.8685 - val_accuracy: 0.7649\n",
            "Epoch 152/200\n",
            "289/289 [==============================] - 2s 7ms/step - loss: 0.2116 - accuracy: 0.9274 - val_loss: 0.9004 - val_accuracy: 0.7522\n",
            "Epoch 153/200\n",
            "289/289 [==============================] - 2s 7ms/step - loss: 0.2117 - accuracy: 0.9244 - val_loss: 0.9509 - val_accuracy: 0.7580\n",
            "Epoch 154/200\n",
            "289/289 [==============================] - 2s 7ms/step - loss: 0.2151 - accuracy: 0.9222 - val_loss: 0.9128 - val_accuracy: 0.7493\n",
            "Epoch 155/200\n",
            "289/289 [==============================] - 2s 7ms/step - loss: 0.2173 - accuracy: 0.9233 - val_loss: 0.8911 - val_accuracy: 0.7580\n",
            "Epoch 156/200\n",
            "289/289 [==============================] - 2s 7ms/step - loss: 0.2225 - accuracy: 0.9207 - val_loss: 0.8816 - val_accuracy: 0.7659\n",
            "Epoch 157/200\n",
            "289/289 [==============================] - 2s 7ms/step - loss: 0.2142 - accuracy: 0.9229 - val_loss: 0.8505 - val_accuracy: 0.7620\n",
            "Epoch 158/200\n",
            "289/289 [==============================] - 2s 7ms/step - loss: 0.2114 - accuracy: 0.9265 - val_loss: 0.9095 - val_accuracy: 0.7561\n",
            "Epoch 159/200\n",
            "289/289 [==============================] - 2s 7ms/step - loss: 0.2187 - accuracy: 0.9224 - val_loss: 0.8623 - val_accuracy: 0.7561\n",
            "Epoch 160/200\n",
            "289/289 [==============================] - 2s 7ms/step - loss: 0.2103 - accuracy: 0.9261 - val_loss: 0.8631 - val_accuracy: 0.7659\n",
            "Epoch 161/200\n",
            "289/289 [==============================] - 2s 7ms/step - loss: 0.2183 - accuracy: 0.9200 - val_loss: 0.8421 - val_accuracy: 0.7698\n",
            "Epoch 162/200\n",
            "289/289 [==============================] - 2s 7ms/step - loss: 0.2087 - accuracy: 0.9263 - val_loss: 0.8833 - val_accuracy: 0.7688\n",
            "Epoch 163/200\n",
            "289/289 [==============================] - 2s 7ms/step - loss: 0.2198 - accuracy: 0.9211 - val_loss: 0.8669 - val_accuracy: 0.7688\n",
            "Epoch 164/200\n",
            "289/289 [==============================] - 2s 7ms/step - loss: 0.2162 - accuracy: 0.9205 - val_loss: 0.8725 - val_accuracy: 0.7639\n",
            "Epoch 165/200\n",
            "289/289 [==============================] - 2s 7ms/step - loss: 0.2180 - accuracy: 0.9220 - val_loss: 0.9573 - val_accuracy: 0.7668\n",
            "Epoch 166/200\n",
            "289/289 [==============================] - 2s 7ms/step - loss: 0.2060 - accuracy: 0.9270 - val_loss: 0.8963 - val_accuracy: 0.7717\n",
            "Epoch 167/200\n",
            "289/289 [==============================] - 2s 7ms/step - loss: 0.2099 - accuracy: 0.9251 - val_loss: 0.8837 - val_accuracy: 0.7610\n",
            "Epoch 168/200\n",
            "289/289 [==============================] - 2s 7ms/step - loss: 0.2096 - accuracy: 0.9227 - val_loss: 0.8993 - val_accuracy: 0.7659\n",
            "Epoch 169/200\n",
            "289/289 [==============================] - 2s 7ms/step - loss: 0.2177 - accuracy: 0.9236 - val_loss: 0.8555 - val_accuracy: 0.7668\n",
            "Epoch 170/200\n",
            "289/289 [==============================] - 2s 7ms/step - loss: 0.2065 - accuracy: 0.9275 - val_loss: 0.9006 - val_accuracy: 0.7571\n",
            "Epoch 171/200\n",
            "289/289 [==============================] - 2s 7ms/step - loss: 0.2138 - accuracy: 0.9222 - val_loss: 0.9013 - val_accuracy: 0.7522\n",
            "Epoch 172/200\n",
            "289/289 [==============================] - 2s 7ms/step - loss: 0.2054 - accuracy: 0.9266 - val_loss: 0.9556 - val_accuracy: 0.7590\n",
            "Epoch 173/200\n",
            "289/289 [==============================] - 2s 7ms/step - loss: 0.2137 - accuracy: 0.9212 - val_loss: 0.9587 - val_accuracy: 0.7639\n",
            "Epoch 174/200\n",
            "289/289 [==============================] - 2s 7ms/step - loss: 0.2201 - accuracy: 0.9197 - val_loss: 0.9404 - val_accuracy: 0.7620\n",
            "Epoch 175/200\n",
            "289/289 [==============================] - 2s 7ms/step - loss: 0.2045 - accuracy: 0.9261 - val_loss: 0.8899 - val_accuracy: 0.7727\n",
            "Epoch 176/200\n",
            "289/289 [==============================] - 2s 7ms/step - loss: 0.2133 - accuracy: 0.9262 - val_loss: 0.8692 - val_accuracy: 0.7659\n",
            "Epoch 177/200\n",
            "289/289 [==============================] - 2s 7ms/step - loss: 0.2060 - accuracy: 0.9283 - val_loss: 0.8899 - val_accuracy: 0.7746\n",
            "Epoch 178/200\n",
            "289/289 [==============================] - 2s 7ms/step - loss: 0.2007 - accuracy: 0.9236 - val_loss: 0.8694 - val_accuracy: 0.7698\n",
            "Epoch 179/200\n",
            "289/289 [==============================] - 2s 7ms/step - loss: 0.2027 - accuracy: 0.9271 - val_loss: 0.9108 - val_accuracy: 0.7590\n",
            "Epoch 180/200\n",
            "289/289 [==============================] - 2s 7ms/step - loss: 0.2174 - accuracy: 0.9253 - val_loss: 0.9114 - val_accuracy: 0.7600\n",
            "Epoch 181/200\n",
            "289/289 [==============================] - 2s 7ms/step - loss: 0.2124 - accuracy: 0.9249 - val_loss: 0.8595 - val_accuracy: 0.7571\n",
            "Epoch 182/200\n",
            "289/289 [==============================] - 2s 7ms/step - loss: 0.2067 - accuracy: 0.9262 - val_loss: 0.8783 - val_accuracy: 0.7551\n",
            "Epoch 183/200\n",
            "289/289 [==============================] - 2s 7ms/step - loss: 0.2175 - accuracy: 0.9231 - val_loss: 0.8898 - val_accuracy: 0.7532\n",
            "Epoch 184/200\n",
            "289/289 [==============================] - 2s 7ms/step - loss: 0.2144 - accuracy: 0.9230 - val_loss: 0.9221 - val_accuracy: 0.7571\n",
            "Epoch 185/200\n",
            "289/289 [==============================] - 2s 7ms/step - loss: 0.2127 - accuracy: 0.9254 - val_loss: 0.9311 - val_accuracy: 0.7434\n",
            "Epoch 186/200\n",
            "289/289 [==============================] - 2s 7ms/step - loss: 0.2125 - accuracy: 0.9229 - val_loss: 0.9301 - val_accuracy: 0.7600\n",
            "Epoch 187/200\n",
            "289/289 [==============================] - 2s 7ms/step - loss: 0.1947 - accuracy: 0.9338 - val_loss: 0.9358 - val_accuracy: 0.7473\n",
            "Epoch 188/200\n",
            "289/289 [==============================] - 2s 7ms/step - loss: 0.2057 - accuracy: 0.9288 - val_loss: 0.9317 - val_accuracy: 0.7590\n",
            "Epoch 189/200\n",
            "289/289 [==============================] - 2s 7ms/step - loss: 0.2088 - accuracy: 0.9252 - val_loss: 0.8741 - val_accuracy: 0.7600\n",
            "Epoch 190/200\n",
            "289/289 [==============================] - 2s 7ms/step - loss: 0.2064 - accuracy: 0.9257 - val_loss: 0.9123 - val_accuracy: 0.7600\n",
            "Epoch 191/200\n",
            "289/289 [==============================] - 2s 7ms/step - loss: 0.1982 - accuracy: 0.9276 - val_loss: 0.9568 - val_accuracy: 0.7659\n",
            "Epoch 192/200\n",
            "289/289 [==============================] - 2s 7ms/step - loss: 0.2001 - accuracy: 0.9292 - val_loss: 0.9668 - val_accuracy: 0.7639\n",
            "Epoch 193/200\n",
            "289/289 [==============================] - 2s 7ms/step - loss: 0.2004 - accuracy: 0.9288 - val_loss: 0.9509 - val_accuracy: 0.7532\n",
            "Epoch 194/200\n",
            "289/289 [==============================] - 2s 7ms/step - loss: 0.2047 - accuracy: 0.9259 - val_loss: 0.9218 - val_accuracy: 0.7620\n",
            "Epoch 195/200\n",
            "289/289 [==============================] - 2s 7ms/step - loss: 0.2048 - accuracy: 0.9253 - val_loss: 0.9443 - val_accuracy: 0.7532\n",
            "Epoch 196/200\n",
            "289/289 [==============================] - 2s 7ms/step - loss: 0.1988 - accuracy: 0.9285 - val_loss: 1.0172 - val_accuracy: 0.7590\n",
            "Epoch 197/200\n",
            "289/289 [==============================] - 2s 7ms/step - loss: 0.2055 - accuracy: 0.9270 - val_loss: 0.9013 - val_accuracy: 0.7551\n",
            "Epoch 198/200\n",
            "289/289 [==============================] - 2s 7ms/step - loss: 0.1933 - accuracy: 0.9331 - val_loss: 0.9968 - val_accuracy: 0.7561\n",
            "Epoch 199/200\n",
            "289/289 [==============================] - 2s 8ms/step - loss: 0.2004 - accuracy: 0.9292 - val_loss: 0.9607 - val_accuracy: 0.7571\n",
            "Epoch 200/200\n",
            "289/289 [==============================] - 4s 13ms/step - loss: 0.2036 - accuracy: 0.9283 - val_loss: 0.9130 - val_accuracy: 0.7532\n"
          ]
        },
        {
          "data": {
            "text/plain": [
              "<keras.callbacks.History at 0x7f98386b3810>"
            ]
          },
          "execution_count": 133,
          "metadata": {},
          "output_type": "execute_result"
        }
      ],
      "source": [
        "model.fit(X_train,y_train,epochs=200,validation_data=(x_val,y_val))\n",
        "\n"
      ]
    },
    {
      "cell_type": "code",
      "execution_count": null,
      "metadata": {
        "colab": {
          "base_uri": "https://localhost:8080/"
        },
        "id": "kE3q35gsxfLr",
        "outputId": "17a81cb0-e9ae-4ebc-c3df-c20061a7b230"
      },
      "outputs": [
        {
          "name": "stdout",
          "output_type": "stream",
          "text": [
            "138/138 [==============================] - 1s 4ms/step - loss: 1.5672 - accuracy: 0.7605\n"
          ]
        },
        {
          "data": {
            "text/plain": [
              "[1.5671613216400146, 0.7604736089706421]"
            ]
          },
          "execution_count": 113,
          "metadata": {},
          "output_type": "execute_result"
        }
      ],
      "source": [
        "model.evaluate(X_test,y_test)"
      ]
    },
    {
      "cell_type": "code",
      "execution_count": null,
      "metadata": {
        "id": "y-01UIzITPA3"
      },
      "outputs": [],
      "source": [
        "\n",
        "from sklearn import metrics\n",
        "from sklearn.metrics import confusion_matrix\n",
        "import matplotlib.pyplot as plt\n",
        "import seaborn as sns"
      ]
    },
    {
      "cell_type": "code",
      "execution_count": null,
      "metadata": {
        "colab": {
          "base_uri": "https://localhost:8080/",
          "height": 427
        },
        "id": "YG5uRyMTUVby",
        "outputId": "18c3a92e-81c5-4ba2-d96a-2152e4e08ff7"
      },
      "outputs": [
        {
          "data": {
            "text/plain": [
              "Text(51.0, 0.5, 'Predicted label')"
            ]
          },
          "execution_count": 53,
          "metadata": {},
          "output_type": "execute_result"
        },
        {
          "data": {
            "image/png": "[encoded data removed]",
            "text/plain": [
              "<Figure size 576x432 with 2 Axes>"
            ]
          },
          "metadata": {
            "needs_background": "light"
          },
          "output_type": "display_data"
        }
      ],
      "source": [
        "y_pred=model.predict(X_test)\n",
        "sentiment_classes = ['Negative', 'Neutral', 'Positive']\n",
        "cm=confusion_matrix(np.argmax(np.array(y_test),axis=1), np.argmax(y_pred, axis=1))\n",
        "    # plot confusion matrix\n",
        "plt.figure(figsize=(8,6))\n",
        "sns.heatmap(cm, cmap=plt.cm.Blues, annot=True, fmt='d', \n",
        "                xticklabels=sentiment_classes,\n",
        "                yticklabels=sentiment_classes)\n",
        "plt.title('Confusion matrix', fontsize=16)\n",
        "plt.xlabel('Actual label', fontsize=12)\n",
        "plt.ylabel('Predicted label', fontsize=12)"
      ]
    }
  ],
  "metadata": {
    "accelerator": "GPU",
    "colab": {
      "collapsed_sections": [],
      "name": "sentiment_analysis.ipynb",
      "provenance": []
    },
    "gpuClass": "standard",
    "kernelspec": {
      "display_name": "Python 3",
      "name": "python3"
    },
    "language_info": {
      "name": "python"
    }
  },
  "nbformat": 4,
  "nbformat_minor": 0
}
